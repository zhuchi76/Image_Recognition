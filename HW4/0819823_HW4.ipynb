{
  "cells": [
    {
      "cell_type": "code",
      "execution_count": 101,
      "metadata": {
        "id": "nNz2c_iVmS_C"
      },
      "outputs": [],
      "source": [
        "import numpy as np\n",
        "import pandas as pd\n",
        "from sklearn.svm import SVC, SVR\n",
        "from sklearn.metrics import accuracy_score"
      ]
    },
    {
      "cell_type": "code",
      "execution_count": 102,
      "metadata": {
        "colab": {
          "base_uri": "https://localhost:8080/"
        },
        "id": "teMvWK8rmaWU",
        "outputId": "10f84300-8170-4461-d88e-67ca6de6ebbd"
      },
      "outputs": [
        {
          "name": "stdout",
          "output_type": "stream",
          "text": [
            "Drive already mounted at /content/drive; to attempt to forcibly remount, call drive.mount(\"/content/drive\", force_remount=True).\n"
          ]
        }
      ],
      "source": [
        "#from google.colab import drive\n",
        "#drive.mount('/content/drive')"
      ]
    },
    {
      "cell_type": "markdown",
      "metadata": {
        "id": "bQeKUPfnmS_F"
      },
      "source": [
        "## Load data"
      ]
    },
    {
      "cell_type": "code",
      "execution_count": 103,
      "metadata": {
        "id": "CxJj6hT0mS_G"
      },
      "outputs": [],
      "source": [
        "#path = '/content/drive/MyDrive/Image_recognition/HW4/'\n",
        "path = ''\n",
        "x_train = np.load(path + \"x_train.npy\")\n",
        "y_train = np.load(path + \"y_train.npy\")\n",
        "x_test = np.load(path + \"x_test.npy\")\n",
        "y_test = np.load(path + \"y_test.npy\")"
      ]
    },
    {
      "cell_type": "code",
      "execution_count": 104,
      "metadata": {
        "colab": {
          "base_uri": "https://localhost:8080/"
        },
        "id": "iwMMhhremS_H",
        "outputId": "b47c9ea7-3885-4da9-fea0-445f1a8162f8"
      },
      "outputs": [
        {
          "name": "stdout",
          "output_type": "stream",
          "text": [
            "(550, 300)\n"
          ]
        }
      ],
      "source": [
        "# 550 data with 300 features\n",
        "print(x_train.shape)"
      ]
    },
    {
      "cell_type": "code",
      "execution_count": 105,
      "metadata": {
        "colab": {
          "base_uri": "https://localhost:8080/"
        },
        "id": "JY0ctGw-mS_I",
        "outputId": "07a093d6-8ad6-47b6-b899-a40a1c72942a"
      },
      "outputs": [
        {
          "name": "stdout",
          "output_type": "stream",
          "text": [
            "[0 1]\n"
          ]
        }
      ],
      "source": [
        "# It's a binary classification problem \n",
        "print(np.unique(y_train))"
      ]
    },
    {
      "cell_type": "markdown",
      "metadata": {
        "id": "ropdgXJhmS_J"
      },
      "source": [
        "## Question 1\n",
        "K-fold data partition: Implement the K-fold cross-validation function. Your function should take K as an argument and return a list of lists (len(list) should equal to K), which contains K elements. Each element is a list contains two parts, the first part contains the index of all training folds, e.g. Fold 2 to Fold 5 in split 1. The second part contains the index of validation fold, e.g. Fold 1 in  split 1"
      ]
    },
    {
      "cell_type": "code",
      "execution_count": 106,
      "metadata": {
        "id": "GbiMdOX6KGmJ"
      },
      "outputs": [],
      "source": [
        "def cross_validation(x_train, y_train, k=5):\n",
        "    n_samples = x_train.shape[0]\n",
        "    indices = np.arange(n_samples)\n",
        "    np.random.seed()\n",
        "    np.random.shuffle(indices)\n",
        "    folds = []\n",
        "    size = n_samples//k + 1\n",
        "    for i in range(n_samples%k):\n",
        "        start = i * size\n",
        "        fold = indices[start:start+size]\n",
        "        folds.append(fold)\n",
        "    size = n_samples // k\n",
        "    for i in range(n_samples%k, k):\n",
        "        start = i * size\n",
        "        fold = indices[start:start+size]\n",
        "        folds.append(fold)\n",
        "    folds = np.asarray(folds)\n",
        "    kfold = []\n",
        "    for i in range(k):\n",
        "        #train = folds[np.arange(k)!=i].reshape(-1)\n",
        "        #print('HHHHHHHHHHHHHHHH:',folds[np.arange(k)!=i])\n",
        "        train = np.concatenate(folds[np.arange(k)!=i])\n",
        "        #print('TTTTTTTTTTTTTTTT:',train)\n",
        "        val = folds[i]\n",
        "        kfold.append([train, val])\n",
        "    return kfold"
      ]
    },
    {
      "cell_type": "code",
      "execution_count": 108,
      "metadata": {
        "id": "sXXqa0kgmS_K"
      },
      "outputs": [],
      "source": [
        "kfold_data = cross_validation(x_train, y_train, k=10)\n",
        "assert len(kfold_data) == 10 # should contain 10 fold of data\n",
        "assert len(kfold_data[0]) == 2 # each element should contain train fold and validation fold\n",
        "assert kfold_data[0][1].shape[0] == 55 # The number of data in each validation fold should equal to training data divieded by K"
      ]
    },
    {
      "cell_type": "markdown",
      "metadata": {
        "id": "Eob4JDbDmS_L"
      },
      "source": [
        "## example"
      ]
    },
    {
      "cell_type": "code",
      "execution_count": 109,
      "metadata": {
        "colab": {
          "base_uri": "https://localhost:8080/"
        },
        "id": "1gqHctKHmS_M",
        "outputId": "8f7ff6b5-abbf-43f9-fe77-6acceab4921f"
      },
      "outputs": [
        {
          "name": "stdout",
          "output_type": "stream",
          "text": [
            "Split: 1, Training index: [ 0  2  3  4  7  8  9 10 11 12 14 15 16 17 18 19], Validation index: [ 1  5  6 13]\n",
            "Split: 2, Training index: [ 1  2  4  5  6  7  8  9 10 11 12 13 14 15 18 19], Validation index: [ 0  3 16 17]\n",
            "Split: 3, Training index: [ 0  1  2  3  4  5  6  7  9 11 13 14 16 17 18 19], Validation index: [ 8 10 12 15]\n",
            "Split: 4, Training index: [ 0  1  2  3  4  5  6  8 10 11 12 13 15 16 17 18], Validation index: [ 7  9 14 19]\n",
            "Split: 5, Training index: [ 0  1  3  5  6  7  8  9 10 12 13 14 15 16 17 19], Validation index: [ 2  4 11 18]\n"
          ]
        }
      ],
      "source": [
        "from sklearn.model_selection import KFold\n",
        "\n",
        "X = np.arange(20)\n",
        "kf = KFold(n_splits=5, shuffle=True)\n",
        "KFold_Data= []\n",
        "for i, (train_index, val_index) in enumerate(kf.split(X)):\n",
        "    print(\"Split: %s, Training index: %s, Validation index: %s\" % (i+1, train_index, val_index))\n",
        "    KFold_Data.append([train_index, val_index])"
      ]
    },
    {
      "cell_type": "code",
      "execution_count": 110,
      "metadata": {
        "id": "5NgDb1XEmS_M"
      },
      "outputs": [],
      "source": [
        "assert len(KFold_Data) == 5 # should contain 5 fold of data\n",
        "assert len(KFold_Data[0]) == 2 # each element should contains index of training fold and validation fold\n",
        "assert KFold_Data[0][1].shape[0] == 4 # The number of data in each validation fold should equal to training data divieded by K"
      ]
    },
    {
      "cell_type": "markdown",
      "metadata": {
        "id": "2sVNh-ZamS_N"
      },
      "source": [
        "## Question 2\n",
        "Using sklearn.svm.SVC to train a classifier on the provided train set and conduct the grid search of “C” and “gamma” to find the best parameters by cross-validation."
      ]
    },
    {
      "cell_type": "code",
      "execution_count": 111,
      "metadata": {
        "id": "0zfGHbHlmS_N"
      },
      "outputs": [],
      "source": [
        "from sklearn.svm import SVC\n",
        "from sklearn.metrics import accuracy_score"
      ]
    },
    {
      "cell_type": "code",
      "execution_count": 127,
      "metadata": {
        "id": "-z67mVbemS_O"
      },
      "outputs": [],
      "source": [
        "def svm_gridsearch(x, y, kfold_data, candidate_C, candidate_gamma):\n",
        "    gd = []\n",
        "    best_C, best_gamma, max_acc = 0, 0, 0\n",
        "    for C in candidate_C:\n",
        "        temp = []\n",
        "        for gamma in candidate_gamma:\n",
        "            all_acc = []\n",
        "            for f in kfold_data:\n",
        "                clf = SVC(C=C, kernel='rbf', gamma=gamma)\n",
        "                clf.fit(x[f[0]], y[f[0]])\n",
        "                y_pred = clf.predict(x[f[1]])\n",
        "                acc = accuracy_score(y_pred, y[f[1]])\n",
        "                all_acc.append(acc)\n",
        "            avg_acc = np.average(np.asarray(all_acc))\n",
        "            #print(f'C={C}, gamma={gamma}, avg acc={avg_acc:.2f}')\n",
        "            temp.append(avg_acc)\n",
        "            if avg_acc >= max_acc:\n",
        "                best_C = C\n",
        "                best_gamma = gamma\n",
        "                max_acc = avg_acc\n",
        "        gd.append(temp)\n",
        "    gridsearch = np.asarray(gd)\n",
        "    return gridsearch, (best_C, best_gamma), max_acc"
      ]
    },
    {
      "cell_type": "code",
      "execution_count": 128,
      "metadata": {
        "colab": {
          "base_uri": "https://localhost:8080/"
        },
        "id": "nGCfUrKsQHdJ",
        "outputId": "1560cf5e-5ce8-4e9f-ba98-a67f940a8ed8"
      },
      "outputs": [
        {
          "name": "stderr",
          "output_type": "stream",
          "text": [
            "/usr/local/lib/python3.7/dist-packages/ipykernel_launcher.py:17: VisibleDeprecationWarning: Creating an ndarray from ragged nested sequences (which is a list-or-tuple of lists-or-tuples-or ndarrays with different lengths or shapes) is deprecated. If you meant to do this, you must specify 'dtype=object' when creating the ndarray.\n"
          ]
        },
        {
          "name": "stdout",
          "output_type": "stream",
          "text": [
            "Best parameter (C, gamma): (10000.0, 0.0001) acc: 0.85\n"
          ]
        }
      ],
      "source": [
        "cand_C = [1e-2, 1e-1, 1, 10, 1e2, 1e3, 1e4]\n",
        "cand_gamma = [1e-4, 1e-3, 1e-2, 1e-1, 1, 10, 1e2, 1e3]\n",
        "kfold_data = cross_validation(x_train, y_train, k=3)\n",
        "gridsearch, best_parameters, max_acc = svm_gridsearch(x_train, y_train, kfold_data, cand_C, cand_gamma)\n",
        "print(f'Best parameter (C, gamma): {best_parameters} acc: {max_acc:.2f}')"
      ]
    },
    {
      "cell_type": "code",
      "execution_count": 120,
      "metadata": {
        "colab": {
          "base_uri": "https://localhost:8080/"
        },
        "id": "uVD3pqnOmS_O",
        "outputId": "9c3fd219-661c-4937-d1a4-a7c265578229"
      },
      "outputs": [
        {
          "name": "stdout",
          "output_type": "stream",
          "text": [
            "(10000.0, 0.0001)\n"
          ]
        }
      ],
      "source": [
        "print(best_parameters)"
      ]
    },
    {
      "cell_type": "markdown",
      "metadata": {
        "id": "UiZz3EgzmS_O"
      },
      "source": [
        "## Question 3\n",
        "Plot the grid search results of your SVM. The x, y represents the hyperparameters of “gamma” and “C”, respectively. And the color represents the average score of validation folds\n",
        "You reults should be look like this reference image below ![image](https://miro.medium.com/max/1296/1*wGWTup9r4cVytB5MOnsjdQ.png) "
      ]
    },
    {
      "cell_type": "code",
      "execution_count": 121,
      "metadata": {
        "id": "qPze0GeVnmPt"
      },
      "outputs": [],
      "source": [
        "import matplotlib\n",
        "import matplotlib.pyplot as plt"
      ]
    },
    {
      "cell_type": "code",
      "execution_count": 122,
      "metadata": {
        "id": "xw_0v-aGmDn1"
      },
      "outputs": [],
      "source": [
        "def heatmap(data, rlabels, clabels, ax=None, **kwargs):\n",
        "    if not ax:\n",
        "        ax = plt.gca()\n",
        "    im = ax.imshow(data, **kwargs)\n",
        "    cbar = ax.figure.colorbar(im, ax=ax)\n",
        "    ax.set_xticks(np.arange(data.shape[1]))\n",
        "    ax.set_yticks(np.arange(data.shape[0]))\n",
        "    ax.set_xticklabels(clabels)\n",
        "    ax.set_yticklabels(rlabels)\n",
        "    plt.setp(\n",
        "        ax.get_yticklabels(), rotation=90,\n",
        "        va='bottom', ha='center', rotation_mode='anchor')\n",
        "    ax.set_xlabel('Gamma Parameter')\n",
        "    ax.set_ylabel('C Parameter')\n",
        "    ax.tick_params(top=False, bottom=True, labeltop=False, labelbottom=True)\n",
        "    return im, cbar"
      ]
    },
    {
      "cell_type": "code",
      "execution_count": 123,
      "metadata": {
        "id": "kXZJ_eRjmdms"
      },
      "outputs": [],
      "source": [
        "def annotate_heatmap(im, valfmt, threshold=None):\n",
        "    data = im.get_array()\n",
        "    if threshold is None:\n",
        "        threshold = im.norm(data.max())/2.\n",
        "    else:\n",
        "        threshold = im.norm(threshold)\n",
        "        \n",
        "\n",
        "    kw = dict(horizontalalignment=\"center\", verticalalignment=\"center\")\n",
        "\n",
        "    if isinstance(valfmt, str):\n",
        "        valfmt = matplotlib.ticker.StrMethodFormatter(valfmt)\n",
        "\n",
        "    texts = []\n",
        "    textcolors = ['black', 'white']\n",
        "    for i in range(data.shape[0]):\n",
        "        for j in range(data.shape[1]):\n",
        "            kw.update(color=textcolors[int(im.norm(data[i, j])>threshold)])\n",
        "            text = im.axes.text(j, i, valfmt(data[i, j], None), **kw)\n",
        "            texts.append(text)\n",
        "    return texts\n"
      ]
    },
    {
      "cell_type": "code",
      "execution_count": 124,
      "metadata": {
        "colab": {
          "base_uri": "https://localhost:8080/",
          "height": 297
        },
        "id": "YcPVoDYdmhPj",
        "outputId": "77a26f2e-5378-46e6-db3e-2d4a3572bb07"
      },
      "outputs": [
        {
          "data": {
            "image/png": "[encoded data removed]",
            "text/plain": [
              "<Figure size 432x288 with 2 Axes>"
            ]
          },
          "metadata": {
            "needs_background": "light"
          },
          "output_type": "display_data"
        }
      ],
      "source": [
        "fig, ax = plt.subplots()\n",
        "im, cbar = heatmap(gridsearch, cand_C, cand_gamma, ax=ax, cmap='seismic_r')\n",
        "texts = annotate_heatmap(im, valfmt='{x:.2f}', threshold=0.2)\n",
        "#print(texts)\n",
        "plt.title('Hyperparameter Gridsearch')\n",
        "fig.tight_layout()\n",
        "plt.savefig('gridsearch_svc.png', dpi=1000, transparent=True)\n",
        "#plt.clf()"
      ]
    },
    {
      "cell_type": "markdown",
      "metadata": {
        "id": "AdtBonTnmS_P"
      },
      "source": [
        "## Question 4\n",
        "Train your SVM model by the best parameters you found from question 2 on the whole training set and evaluate the performance on the test set."
      ]
    },
    {
      "cell_type": "code",
      "execution_count": 126,
      "metadata": {
        "colab": {
          "base_uri": "https://localhost:8080/"
        },
        "id": "bf1Cx7BXoi7T",
        "outputId": "36f919e9-a8f8-4454-ed9d-3c40a7d20335"
      },
      "outputs": [
        {
          "name": "stdout",
          "output_type": "stream",
          "text": [
            "Best parameter (C, gamma) on training set: (10000.0, 0.0001)\n",
            "Accuracy score on testing set: 0.90625\n"
          ]
        }
      ],
      "source": [
        "print(f'Best parameter (C, gamma) on training set: {best_parameters}')\n",
        "best_C, best_gamma = best_parameters\n",
        "best_model = SVC(C=best_C, kernel='rbf', gamma=best_gamma)\n",
        "best_model.fit(x_train, y_train)\n",
        "y_pred = best_model.predict(x_test)\n",
        "print(f\"Accuracy score on testing set: {accuracy_score(y_pred, y_test)}\" )"
      ]
    }
  ],
  "metadata": {
    "colab": {
      "collapsed_sections": [],
      "name": "HW4.ipynb",
      "provenance": []
    },
    "kernelspec": {
      "display_name": "Python 3 (ipykernel)",
      "language": "python",
      "name": "python3"
    },
    "language_info": {
      "codemirror_mode": {
        "name": "ipython",
        "version": 3
      },
      "file_extension": ".py",
      "mimetype": "text/x-python",
      "name": "python",
      "nbconvert_exporter": "python",
      "pygments_lexer": "ipython3",
      "version": "3.10.4"
    }
  },
  "nbformat": 4,
  "nbformat_minor": 0
}
